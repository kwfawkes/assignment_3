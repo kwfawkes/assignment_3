{
 "cells": [
  {
   "cell_type": "code",
   "execution_count": 1,
   "metadata": {
    "collapsed": true
   },
   "outputs": [],
   "source": [
    "# Creating the variable word\n",
    "word = \"supercalifragilisticexpialidocious\""
   ]
  },
  {
   "cell_type": "code",
   "execution_count": 3,
   "metadata": {
    "collapsed": false
   },
   "outputs": [
    {
     "name": "stdout",
     "output_type": "stream",
     "text": [
      "subword 1: super\n",
      "subword 2: ice\n",
      "subword 3: us\n"
     ]
    }
   ],
   "source": [
    "# Creating subword's 1-3 by slicing word\n",
    "print('subword 1:', word[:5])\n",
    "print ('subword 2:', word[18:21])\n",
    "print ('subword 3:', word[-2:])"
   ]
  },
  {
   "cell_type": "code",
   "execution_count": 12,
   "metadata": {
    "collapsed": false
   },
   "outputs": [
    {
     "name": "stdout",
     "output_type": "stream",
     "text": [
      "mean of list from 1-10: 5.5\n"
     ]
    }
   ],
   "source": [
    "# Making a variable for the list of number from 1-10\n",
    "gen_list = [1,2,3,4,5,6,7,8,9,10]\n",
    "# Calculating the mean of this list\n",
    "gen_list_mean = (1+2+3+4+5+6+7+8+9+10)/10\n",
    "# Printing the final answer for the mean\n",
    "print('mean of list from 1-10:', gen_list_mean)"
   ]
  },
  {
   "cell_type": "code",
   "execution_count": 19,
   "metadata": {
    "collapsed": false
   },
   "outputs": [
    {
     "name": "stdout",
     "output_type": "stream",
     "text": [
      "standard deviation of list from 1-10: 3.0276503540974917\n"
     ]
    }
   ],
   "source": [
    "# Calculating the standard deviation of the list of numbers from 1-10\n",
    "gen_list_std = ((((1-5.5)**2)+((2-5.5)**2)+((3-5.5)**2)+((4-5.5)**2)+((5-5.5)**2)+((6-5.5)**2)+((7-5.5)**2)+((8-5.5)**2)+((9-5.5)**2)+((10-5.5)**2))/(10-1))**(1/2)\n",
    "# Printing the final answer for the standard deviation\n",
    "print('standard deviation of list from 1-10:', gen_list_std)"
   ]
  },
  {
   "cell_type": "code",
   "execution_count": 16,
   "metadata": {
    "collapsed": false
   },
   "outputs": [
    {
     "name": "stdout",
     "output_type": "stream",
     "text": [
      "standard error of list from 1-10: 0.9574271077563381\n"
     ]
    }
   ],
   "source": [
    "# Calculating the standard error of the list of numbers from 1-10\n",
    "gen_list_ste = gen_list_std/((10))**(1/2)\n",
    "# Printing the final answer for the standard error \n",
    "print('standard error of list from 1-10:', gen_list_ste)"
   ]
  },
  {
   "cell_type": "code",
   "execution_count": 18,
   "metadata": {
    "collapsed": false
   },
   "outputs": [
    {
     "name": "stdout",
     "output_type": "stream",
     "text": [
      "Full name: Kyle Fawkes\n"
     ]
    }
   ],
   "source": [
    "# Creating variables for my first and last name, which are written as strings\n",
    "first_name = \"Kyle\"\n",
    "last_name = \" Fawkes\"\n",
    "# Adding these strings together\n",
    "full_name = first_name + last_name\n",
    "print('Full name:', full_name )"
   ]
  }
 ],
 "metadata": {
  "kernelspec": {
   "display_name": "Python 3",
   "language": "python",
   "name": "python3"
  },
  "language_info": {
   "codemirror_mode": {
    "name": "ipython",
    "version": 3
   },
   "file_extension": ".py",
   "mimetype": "text/x-python",
   "name": "python",
   "nbconvert_exporter": "python",
   "pygments_lexer": "ipython3",
   "version": "3.4.3"
  }
 },
 "nbformat": 4,
 "nbformat_minor": 0
}
